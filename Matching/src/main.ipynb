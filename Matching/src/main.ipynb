{
 "cells": [
  {
   "cell_type": "markdown",
   "metadata": {
    "pycharm": {
     "name": "#%% md\n"
    }
   },
   "source": [
    "## Introduction\n",
    "This notebook is made for training and making predictions for our golf ball prediction project.  \n",
    "This is a project where we want to get a lot of prediction data out of a video where a person hits a golf ball.\n",
    "\n",
    "\n",
    "For this part of the project we will be matching the data we get from the videos with the data from simulations we ran.  \n",
    "To do this we are going to use Tensorflow, more specifically a deep learning API running on top of Tensorflow called `Keras`.  \n",
    "\n",
    "\n",
    "At the end of this notebook we will have a trained model and we will be able to make a prediction of how hard you hit a golf ball (and some other data) on all of the video data we put in to the model.\n",
    "\n",
    "**Make sure to use an environment with <a href=\"https://www.tensorflow.org/install\">Tensorflow</a> and <a href=\"https://matplotlib.org/stable/users/installing/index.html\">matplotlib</a> installed.**"
   ]
  },
  {
   "cell_type": "markdown",
   "metadata": {},
   "source": [
    "\n",
    "### Table of contents\n",
    "1. Imports\n",
    "1. Get dataset\n",
    "1. Make or import the model\n",
    "1. Train the model\n",
    "1. Get plot from history\n",
    "1. Save the model\n",
    "1. Predict something"
   ]
  },
  {
   "cell_type": "markdown",
   "metadata": {},
   "source": [
    "## 1. Imports"
   ]
  },
  {
   "cell_type": "code",
   "execution_count": 1,
   "metadata": {
    "pycharm": {
     "name": "#%%\n"
    }
   },
   "outputs": [],
   "source": [
    "import os\n",
    "\n",
    "import numpy as np\n",
    "import tensorflow as tf\n",
    "import json\n",
    "from matplotlib import pyplot as plt\n",
    "from keras.callbacks import ModelCheckpoint"
   ]
  },
  {
   "cell_type": "markdown",
   "metadata": {},
   "source": [
    "## 2. Get dataset\n",
    "\n",
    "This function will get data from the folder \"datasets\" and convert every json file to <a href=\"https://www.tensorflow.org/api_docs/python/tf/Tensor\">Tensorflow Tensors</a>.  \n",
    "We need these Tensors because that is an expected input for training the model later.\n",
    "\n",
    "Because the json array we get is a nested array we need to \"flatten\" the data first, we do this using a <a href=\"https://www.tensorflow.org/api_docs/python/tf/nest/flatten\">Tensorflow flatten function</a>  \n",
    "After the input is flattened you can simply <a href=\"https://www.tensorflow.org/api_docs/python/tf/convert_to_tensor\">convert to tensor</a> and use this tensor as an input or output when training the model."
   ]
  },
  {
   "cell_type": "code",
   "execution_count": 2,
   "metadata": {
    "collapsed": true,
    "pycharm": {
     "name": "#%%\n"
    }
   },
   "outputs": [
    {
     "name": "stdout",
     "output_type": "stream",
     "text": [
      "input 0: [{'time': 1, 'coordinatesInput': {'x1': 1, 'x2': 2, 'y1': 1, 'y2': 2}}, {'time': 2, 'coordinatesInput': {'x1': 2, 'x2': 3, 'y1': 2, 'y2': 3}}, {'time': 3, 'coordinatesInput': {'x1': 3, 'x2': 4, 'y1': 3, 'y2': 4}}, {'time': 4, 'coordinatesInput': {'x1': 4, 'x2': 5, 'y1': 4, 'y2': 5}}] \n",
      "\n",
      "flattened input 0: [1, 2, 1, 2, 1, 2, 3, 2, 3, 2, 3, 4, 3, 4, 3, 4, 5, 4, 5, 4] \n",
      "\n",
      "tensor input: tf.Tensor([[1 2 1 2 1 2 3 2 3 2 3 4 3 4 3 4 5 4 5 4]], shape=(1, 20), dtype=int32)\n"
     ]
    }
   ],
   "source": [
    "directory = os.path.join(os.getcwd(), \"datasets\")\n",
    "all_input_files = np.array([])\n",
    "\n",
    "for filename in os.listdir(directory):\n",
    "    if filename.endswith(\".json\"):\n",
    "        all_input_files = np.append(all_input_files, filename)\n",
    "    else:\n",
    "        continue\n",
    "\n",
    "input = []\n",
    "output = []\n",
    "for i in range(len(all_input_files)):\n",
    "    x = json.load(open(os.path.join(directory, all_input_files[i])))\n",
    "\n",
    "    print(f\"input {i}:\", x[\"inputs\"], \"\\n\")\n",
    "    print(f\"flattened input {i}:\", tf.nest.flatten(x[\"inputs\"]), \"\\n\")\n",
    "\n",
    "    input.append(tf.nest.flatten(x[\"inputs\"]))\n",
    "    output.append(tf.nest.flatten(x[\"outputs\"]))\n",
    "\n",
    "train_ds_input = tf.convert_to_tensor(input)\n",
    "train_ds_output = tf.convert_to_tensor(output)\n",
    "\n",
    "print(\"tensor input:\", train_ds_input)\n"
   ]
  },
  {
   "cell_type": "markdown",
   "metadata": {},
   "source": [
    "## 3. Make or import the model\n",
    "This function will either:\n",
    "* Import a model if it exists in the models folder\n",
    "* Create a new model"
   ]
  },
  {
   "cell_type": "code",
   "execution_count": 3,
   "metadata": {
    "pycharm": {
     "name": "#%%\n"
    }
   },
   "outputs": [
    {
     "name": "stdout",
     "output_type": "stream",
     "text": [
      "Model loaded\n"
     ]
    }
   ],
   "source": [
    "if os.path.exists(os.path.join(os.getcwd(), \"./models/model.h5\")):\n",
    "    model = tf.keras.models.load_model(os.path.join(os.getcwd(), \"./models/model.h5\"))\n",
    "    print(\"Model loaded\")\n",
    "else:\n",
    "    inputs = tf.keras.Input(shape=(20,), name=\"inputs\")\n",
    "    x = tf.keras.layers.Dense(20, activation=tf.nn.relu)(inputs)\n",
    "    outputs = tf.keras.layers.Dense(21, activation=tf.nn.softmax)(x)\n",
    "    model = tf.keras.Model(inputs=inputs, outputs=outputs)\n",
    "    model.compile(loss='binary_crossentropy', optimizer='adam', metrics=[\"accuracy\"])\n",
    "    print(\"Model created\")"
   ]
  },
  {
   "cell_type": "markdown",
   "metadata": {},
   "source": [
    "## 4. Train the model"
   ]
  },
  {
   "cell_type": "markdown",
   "metadata": {},
   "source": [
    "### Make callbacks\n",
    "First we need to make callbacks.  \n",
    "We log the training process in the \"logs\" folder.  \n",
    "We also make checkpoints everytime the accuracy increases so we can load that later if something happens like the machine crashes."
   ]
  },
  {
   "cell_type": "code",
   "execution_count": 4,
   "metadata": {},
   "outputs": [],
   "source": [
    "filepath=\"./models/weights-improvement-{epoch:02d}.hdf5\"\n",
    "\n",
    "my_callbacks = [\n",
    "    tf.keras.callbacks.TensorBoard(log_dir='./logs'),\n",
    "    ModelCheckpoint(filepath, monitor='accuracy', verbose=1, save_best_only=True, mode='max'),\n",
    "]"
   ]
  },
  {
   "cell_type": "markdown",
   "metadata": {},
   "source": [
    "### Train the model\n",
    "Here we get to actually train the model.\n",
    "\n",
    "We use the `train_ds_input` and `train_ds_output` we made in an earlier code block. This is the training data.  \n",
    "For now there is 100 epochs and 100 steps_per_epoch this can be changed anytime. For now I will leave it like this since there is only 2 inputs and it will not train very well yet.  \n",
    "We also need to set the callbacks to `my_callbacks` we made in the above code cell."
   ]
  },
  {
   "cell_type": "code",
   "execution_count": 5,
   "metadata": {
    "pycharm": {
     "name": "#%%\n"
    }
   },
   "outputs": [
    {
     "name": "stdout",
     "output_type": "stream",
     "text": [
      "Epoch 1/100\n",
      "100/100 [==============================] - 1s 5ms/step - loss: -66181.3906 - accuracy: 1.0000\n",
      "\n",
      "Epoch 00001: accuracy improved from -inf to 1.00000, saving model to ./models\\weights-improvement-01.hdf5\n",
      "Epoch 2/100\n",
      "WARNING:tensorflow:Your input ran out of data; interrupting training. Make sure that your dataset or generator can generate at least `steps_per_epoch * epochs` batches (in this case, 10000 batches). You may need to use the repeat() function when building your dataset.\n",
      "100/100 [==============================] - 0s 210us/step - loss: -66181.3906 - accuracy: 1.0000\n",
      "\n",
      "Epoch 00002: accuracy did not improve from 1.00000\n"
     ]
    }
   ],
   "source": [
    "history = model.fit(train_ds_input, train_ds_output, epochs=100, steps_per_epoch=100, batch_size=8000, callbacks=my_callbacks)"
   ]
  },
  {
   "cell_type": "markdown",
   "metadata": {},
   "source": [
    "## 5. Get plot from history\n",
    "From the training process we get all sorts of data we can use to plot to visualize how well the model has trained.\n",
    "\n",
    "In this function we make a plot using matplotlib using the `history` from the model training."
   ]
  },
  {
   "cell_type": "code",
   "execution_count": 6,
   "metadata": {
    "pycharm": {
     "name": "#%%\n"
    }
   },
   "outputs": [
    {
     "data": {
      "image/png": "[encoded data removed]",
      "text/plain": [
       "<Figure size 432x288 with 1 Axes>"
      ]
     },
     "metadata": {
      "needs_background": "light"
     },
     "output_type": "display_data"
    }
   ],
   "source": [
    "plt.plot(history.history['accuracy'])\n",
    "# plt.plot(history.history['val_acc']) # TODO: add validation accuracy\n",
    "plt.title('model accuracy')\n",
    "plt.ylabel('accuracy')\n",
    "plt.xlabel('epoch')\n",
    "plt.legend(['train', 'val'], loc='upper left')\n",
    "plt.show()"
   ]
  },
  {
   "cell_type": "markdown",
   "metadata": {},
   "source": [
    "## 6. Save the model\n",
    "The model is done training and we can save it now, this way we dont have to use checkpoints each time.  \n",
    "This model is reusable for next time we want to maybe train it better or make a prediction."
   ]
  },
  {
   "cell_type": "code",
   "execution_count": 7,
   "metadata": {
    "pycharm": {
     "name": "#%%\n"
    }
   },
   "outputs": [],
   "source": [
    "model.save(\"./models/model.h5\")"
   ]
  },
  {
   "cell_type": "markdown",
   "metadata": {},
   "source": [
    "## 7. Predict something\n",
    "At last we can make a prediction.  \n",
    "The prediction itself is not very readable since it is still a flattened array.  \n",
    "To make the prediction a bit more readable we can use a Tensorflow function <a href=\"https://www.tensorflow.org/api_docs/python/tf/nest/pack_sequence_as\">tf.nest.pack_sequence_as()</a>.  \n",
    "In this function we use the original structure for the output.\n",
    "\n",
    "See <a href=\"predict.py\">predict.py</a> for more detailed code.  \n",
    "Right here we only go through all the files in the datasets directory and make a prediction. For other predictions just **import predict** and use the `predict` function to make a prediction of a video."
   ]
  },
  {
   "cell_type": "code",
   "execution_count": 9,
   "metadata": {
    "pycharm": {
     "name": "#%%\n"
    }
   },
   "outputs": [
    {
     "name": "stdout",
     "output_type": "stream",
     "text": [
      "Model loaded\n",
      "{'speed': 0.0, 'angle': 0.0, 'spinAxis': 0.0, 'distance': 0.0, 'rpm': 1.0, 'resultData': [{'time': 0.0, 'coordinatesOutput': {'x': 0.0, 'y': 0.0, 'z': 0.0}}, {'time': 0.0, 'coordinatesOutput': {'x': 0.0, 'y': 0.0, 'z': 0.0}}, {'time': 0.0, 'coordinatesOutput': {'x': 0.0, 'y': 0.0, 'z': 0.0}}, {'time': 0.0, 'coordinatesOutput': {'x': 0.0, 'y': 0.0, 'z': 0.0}}]}\n"
     ]
    }
   ],
   "source": [
    "import predict\n",
    "\n",
    "directory = os.path.join(os.getcwd(), \"datasets\")\n",
    "for filename in os.listdir(directory):\n",
    "    if filename.endswith(\".json\"):\n",
    "        x = json.load(open(os.path.join(directory, filename)))\n",
    "        print(predict.predict(x[\"inputs\"]))\n",
    "    else:\n",
    "        continue"
   ]
  }
 ],
 "metadata": {
  "kernelspec": {
   "display_name": "Python 3 (ipykernel)",
   "language": "python",
   "name": "python3"
  },
  "language_info": {
   "codemirror_mode": {
    "name": "ipython",
    "version": 3
   },
   "file_extension": ".py",
   "mimetype": "text/x-python",
   "name": "python",
   "nbconvert_exporter": "python",
   "pygments_lexer": "ipython3",
   "version": "3.9.12"
  }
 },
 "nbformat": 4,
 "nbformat_minor": 1
}
